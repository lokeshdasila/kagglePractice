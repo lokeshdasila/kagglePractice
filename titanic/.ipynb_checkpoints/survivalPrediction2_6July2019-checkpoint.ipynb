{
 "cells": [
  {
   "cell_type": "markdown",
   "metadata": {},
   "source": [
    "# Titanic survival prediction"
   ]
  },
  {
   "cell_type": "markdown",
   "metadata": {},
   "source": [
    "---\n",
    "We will predict the survival of a person based on given set of attributes"
   ]
  },
  {
   "cell_type": "code",
   "execution_count": 3,
   "metadata": {},
   "outputs": [],
   "source": [
    "import pandas as pd\n",
    "import numpy as np\n",
    "import matplotlib.pyplot as plt\n",
    "import seaborn as sns\n",
    "import missingno\n",
    "from sklearn.linear_model import LogisticRegression\n",
    "from sklearn.metrics import accuracy_score\n",
    "from IPython.display import HTML\n",
    "import warnings\n"
   ]
  },
  {
   "cell_type": "code",
   "execution_count": 6,
   "metadata": {},
   "outputs": [],
   "source": [
    "def numericValues(pdSeries, fillNullValues = True):\n",
    "    itemNo = 0\n",
    "    for item in pdSeries.unique():\n",
    "        if pd.notna(item):\n",
    "            pdSeries = pdSeries.replace(item,itemNo)\n",
    "        elif fillNullValues:\n",
    "            pdSeries = pdSeries.fillna(itemNo)\n",
    "        itemNo+=1\n",
    "    return pdSeries"
   ]
  },
  {
   "cell_type": "code",
   "execution_count": 8,
   "metadata": {},
   "outputs": [
    {
     "name": "stdout",
     "output_type": "stream",
     "text": [
      "Shape of data : (891, 12)\n",
      "columns : ['PassengerId', 'Survived', 'Pclass', 'Name', 'Sex', 'Age', 'SibSp', 'Parch', 'Ticket', 'Fare', 'Cabin', 'Embarked']\n"
     ]
    }
   ],
   "source": [
    "csvTrainData = pd.read_csv('./train.csv')\n",
    "trainData = csvTrainData\n",
    "csvTestData = pd.read_csv('./test.csv')\n",
    "testData = csvTestData\n",
    "csvSurvivedData = pd.read_csv('./gender_submission.csv')\n",
    "survivedData = csvSurvivedData\n",
    "\n",
    "print(\"Shape of data : \"+str(trainData.shape))\n",
    "cols = list(trainData.columns)\n",
    "print(\"columns : \"+str(cols))"
   ]
  },
  {
   "cell_type": "code",
   "execution_count": 9,
   "metadata": {},
   "outputs": [],
   "source": [
    "trainData = pd.read_csv('./train.csv')\n",
    "testData = pd.read_csv('./test.csv')\n",
    "survivedData = pd.read_csv('./gender_submission.csv')"
   ]
  },
  {
   "cell_type": "code",
   "execution_count": null,
   "metadata": {},
   "outputs": [],
   "source": []
  },
  {
   "cell_type": "code",
   "execution_count": null,
   "metadata": {},
   "outputs": [],
   "source": []
  },
  {
   "cell_type": "code",
   "execution_count": null,
   "metadata": {},
   "outputs": [],
   "source": []
  },
  {
   "cell_type": "code",
   "execution_count": null,
   "metadata": {},
   "outputs": [],
   "source": []
  },
  {
   "cell_type": "code",
   "execution_count": null,
   "metadata": {},
   "outputs": [],
   "source": []
  }
 ],
 "metadata": {
  "kernelspec": {
   "display_name": "Python 3",
   "language": "python",
   "name": "python3"
  },
  "language_info": {
   "codemirror_mode": {
    "name": "ipython",
    "version": 3
   },
   "file_extension": ".py",
   "mimetype": "text/x-python",
   "name": "python",
   "nbconvert_exporter": "python",
   "pygments_lexer": "ipython3",
   "version": "3.7.1"
  }
 },
 "nbformat": 4,
 "nbformat_minor": 2
}
